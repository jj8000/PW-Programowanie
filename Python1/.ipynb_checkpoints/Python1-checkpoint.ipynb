{
 "cells": [
  {
   "cell_type": "markdown",
   "id": "1a04f9a5-a50d-4e88-b7c4-519ad794be91",
   "metadata": {},
   "source": [
    "# Python - rozwiązania, część 1"
   ]
  },
  {
   "cell_type": "markdown",
   "id": "4838f528-5008-4e2d-93b4-f550df05e9a4",
   "metadata": {},
   "source": [
    "## Zadanie 1\n",
    "\n",
    "Poprawiony kod:"
   ]
  },
  {
   "cell_type": "code",
   "execution_count": 3,
   "id": "bc4f463a-54f5-4e96-839a-915ef8c4f0df",
   "metadata": {},
   "outputs": [
    {
     "name": "stdout",
     "output_type": "stream",
     "text": [
      "\n",
      "Płaca brutto: 3200.000000\n",
      "* Ub. społeczne: 438.720000\n",
      "*** Ub. emeryt.: 312.320000\n",
      "*** Ub. rentow.: 48.000000\n",
      "*** Ub. chorob.: 78.400000\n",
      "* Ub. zdrowotne: 248.515200\n",
      "* Podatek doch.: 169.158400\n",
      "Płaca netto: 2343.606400\n",
      "\n"
     ]
    }
   ],
   "source": [
    "podatek_dochod = 0.17\n",
    "skl_emeryt, skl_rentow, skl_chorob = 0.0976, 0.0150, 0.0245\n",
    "ubezp_zdrow_staw1, ubezp_zdrow_staw2 = 0.09, 0.0775\n",
    "koszt_uzyskania = 250.00\n",
    "kwota_wolna = 43.76\n",
    "placa_brutto = 3200\n",
    "emeryt = skl_emeryt * placa_brutto\n",
    "rentow = skl_rentow * placa_brutto\n",
    "chorob = skl_chorob * placa_brutto\n",
    "spoleczn = emeryt + rentow + chorob\n",
    "przychod = placa_brutto - spoleczn\n",
    "zdrow = ubezp_zdrow_staw1 * przychod\n",
    "podst_opod = przychod - koszt_uzyskania\n",
    "podatek = podatek_dochod * podst_opod - kwota_wolna\n",
    "podatek -= ubezp_zdrow_staw2 * przychod\n",
    "placa_netto = placa_brutto - spoleczn - zdrow - podatek\n",
    "print('''\n",
    "Płaca brutto: %f\n",
    "* Ub. społeczne: %f\n",
    "*** Ub. emeryt.: %f\n",
    "*** Ub. rentow.: %f\n",
    "*** Ub. chorob.: %f\n",
    "* Ub. zdrowotne: %f\n",
    "* Podatek doch.: %f\n",
    "Płaca netto: %f\n",
    "''' % (\n",
    "placa_brutto, spoleczn, emeryt, rentow, chorob, zdrow, podatek, placa_netto\n",
    "))"
   ]
  },
  {
   "cell_type": "markdown",
   "id": "5309a7cc-d014-482c-80fe-612d021f15a3",
   "metadata": {},
   "source": [
    "## Zadanie 2"
   ]
  },
  {
   "cell_type": "markdown",
   "id": "96eee608-2a48-42bb-9161-6387331933c8",
   "metadata": {},
   "source": [
    "* Pytanie 1 \\\n",
    "  Kod można uprościć do postaci `if pres2[i]: pts2[i] +=1`"
   ]
  },
  {
   "cell_type": "markdown",
   "id": "a987cda6-9545-45ab-8ed0-95d32bdb0b3b",
   "metadata": {},
   "source": [
    "* Pytanie 2 \\\n",
    "  Kod można uprościć do postaci `pts2[i] += 2 if home2[i] == 'perf' else (1 if home2[i] == 'perf' else 3)`, nawias dodano dla czytelności."
   ]
  },
  {
   "cell_type": "markdown",
   "id": "ccbc478d-fd68-4ca0-af8b-b3ac27018d86",
   "metadata": {},
   "source": [
    "* Pytanie 3 \\\n",
    "  Lista pts1 ulega zmianie, ponieważ obydwie zmienne, pts1 i pts2, saą tylko dwiema nazwami dla tej samej listy (innumi słowy, obydwie odnoszą się do tego samego obiektu). \\\n",
    "Aby uniknąć modyfikacji listy pts1, w linijce 13 należałoby utworzyć listę pts2 jako kopię listy pts1 (w tym przypadku wystarczy tzw. płytka kopia), w jeden ze sposobów pokazanych poniżej:\n",
    "```\n",
    "pts2 = pts1.copy()\n",
    "\n",
    "pts2 = pts1[:]\n",
    "```\n"
   ]
  },
  {
   "cell_type": "markdown",
   "id": "81f861c6-7616-4203-8941-ffa17d8cc747",
   "metadata": {},
   "source": [
    "## Zadanie 3"
   ]
  },
  {
   "cell_type": "code",
   "execution_count": 73,
   "id": "f1fc3686-e037-49d0-91b5-5f1a2bb03af3",
   "metadata": {
    "scrolled": true
   },
   "outputs": [
    {
     "name": "stdout",
     "output_type": "stream",
     "text": [
      "' ': 73369\n",
      "'e': 45750\n",
      "'t': 29754\n",
      "'a': 26330\n",
      "'o': 25064\n",
      "'n': 24239\n",
      "'i': 21428\n",
      "'s': 20843\n",
      "'r': 20749\n",
      "'h': 19439\n",
      "'d': 16732\n",
      "'l': 12612\n",
      "'u': 10354\n",
      "'m': 10297\n",
      "'c': 9059\n",
      "'f': 8514\n",
      "'\\n': 7834\n",
      "'y': 7756\n",
      "'w': 7348\n",
      "'p': 5965\n",
      "'g': 5772\n",
      "',': 5110\n",
      "'b': 4771\n",
      "'v': 3789\n",
      "'I': 3187\n",
      "'.': 3142\n",
      "'k': 1723\n",
      "';': 972\n",
      "'x': 675\n",
      "'T': 655\n",
      "'“': 480\n",
      "'j': 430\n",
      "'A': 426\n",
      "'S': 345\n",
      "'q': 323\n",
      "'H': 318\n",
      "'E': 313\n",
      "'M': 309\n",
      "'”': 293\n",
      "'W': 292\n",
      "'B': 256\n",
      "'!': 239\n",
      "'F': 220\n",
      "'?': 220\n",
      "'C': 216\n",
      "'z': 215\n",
      "'G': 204\n",
      "'-': 201\n",
      "'P': 181\n",
      "'O': 164\n",
      "'Y': 162\n",
      "'’': 144\n",
      "'N': 139\n",
      "'D': 136\n",
      "'L': 135\n",
      "'—': 124\n",
      "'R': 109\n",
      "'1': 108\n",
      "'_': 84\n",
      "'J': 74\n",
      "':': 70\n",
      "'U': 60\n",
      "'V': 44\n",
      "'‘': 43\n",
      "'(': 39\n",
      "')': 39\n",
      "'2': 34\n",
      "'K': 32\n",
      "'*': 28\n",
      "'0': 26\n",
      "'7': 25\n",
      "'8': 24\n",
      "'/': 24\n",
      "'3': 23\n",
      "'\"': 22\n",
      "'4': 21\n",
      "'æ': 21\n",
      "'5': 18\n",
      "'9': 15\n",
      "'6': 12\n",
      "\"'\": 8\n",
      "'ê': 6\n",
      "'[': 4\n",
      "']': 4\n",
      "'ô': 2\n",
      "'X': 2\n",
      "'@': 2\n",
      "'$': 2\n",
      "'\\ufeff': 1\n",
      "'#': 1\n",
      "'é': 1\n",
      "'è': 1\n",
      "'%': 1\n",
      "'Q': 1\n"
     ]
    }
   ],
   "source": [
    "from collections import Counter\n",
    "with open(\"frankenstein.txt\", encoding='utf-8') as frankenstein:\n",
    "    frankenstein_characters = Counter(frankenstein.read()) \n",
    "\n",
    "# Obiekt \"Counter\" można drukować bezpośrednio, poniżej w celu zwiększenia przejrzystości dokonano przekształceń: \n",
    "for word, count in sorted(frankenstein_characters.items(), key=lambda x: x[1], reverse=True):\n",
    "    print(f\"{repr(word)}: {count}\")\n",
    "# Uwaga - uwzględniono białe znaki, w tym nowego wiersza \"\\n\"."
   ]
  },
  {
   "cell_type": "code",
   "execution_count": 74,
   "id": "d210eecf-e0ee-453e-97ac-a4ae492b5e0d",
   "metadata": {},
   "outputs": [
    {
     "name": "stdout",
     "output_type": "stream",
     "text": [
      "Counter({' ': 73369, 'e': 45750, 't': 29754, 'a': 26330, 'o': 25064, 'n': 24239, 'i': 21428, 's': 20843, 'r': 20749, 'h': 19439, 'd': 16732, 'l': 12612, 'u': 10354, 'm': 10297, 'c': 9059, 'f': 8514, '\\n': 7834, 'y': 7756, 'w': 7348, 'p': 5965, 'g': 5772, ',': 5110, 'b': 4771, 'v': 3789, 'I': 3187, '.': 3142, 'k': 1723, ';': 972, 'x': 675, 'T': 655, '“': 480, 'j': 430, 'A': 426, 'S': 345, 'q': 323, 'H': 318, 'E': 313, 'M': 309, '”': 293, 'W': 292, 'B': 256, '!': 239, 'F': 220, '?': 220, 'C': 216, 'z': 215, 'G': 204, '-': 201, 'P': 181, 'O': 164, 'Y': 162, '’': 144, 'N': 139, 'D': 136, 'L': 135, '—': 124, 'R': 109, '1': 108, '_': 84, 'J': 74, ':': 70, 'U': 60, 'V': 44, '‘': 43, '(': 39, ')': 39, '2': 34, 'K': 32, '*': 28, '0': 26, '7': 25, '8': 24, '/': 24, '3': 23, '\"': 22, '4': 21, 'æ': 21, '5': 18, '9': 15, '6': 12, \"'\": 8, 'ê': 6, '[': 4, ']': 4, 'ô': 2, 'X': 2, '@': 2, '$': 2, '\\ufeff': 1, '#': 1, 'é': 1, 'è': 1, '%': 1, 'Q': 1})\n"
     ]
    }
   ],
   "source": [
    "# Dla porównania\n",
    "print(frankenstein_characters)"
   ]
  },
  {
   "cell_type": "code",
   "execution_count": null,
   "id": "ab432e26-9d9f-4fcc-95a0-87bbc25cef37",
   "metadata": {},
   "outputs": [],
   "source": []
  }
 ],
 "metadata": {
  "kernelspec": {
   "display_name": "Python 3 (ipykernel)",
   "language": "python",
   "name": "python3"
  },
  "language_info": {
   "codemirror_mode": {
    "name": "ipython",
    "version": 3
   },
   "file_extension": ".py",
   "mimetype": "text/x-python",
   "name": "python",
   "nbconvert_exporter": "python",
   "pygments_lexer": "ipython3",
   "version": "3.12.2"
  }
 },
 "nbformat": 4,
 "nbformat_minor": 5
}
